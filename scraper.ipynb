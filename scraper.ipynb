{
 "cells": [
  {
   "cell_type": "markdown",
   "metadata": {},
   "source": [
    "### Import"
   ]
  },
  {
   "cell_type": "code",
   "execution_count": 43,
   "metadata": {},
   "outputs": [],
   "source": [
    "import os\n",
    "import json\n",
    "import requests\n",
    "from bs4 import BeautifulSoup\n",
    "from deep_translator import GoogleTranslator"
   ]
  },
  {
   "cell_type": "markdown",
   "metadata": {},
   "source": [
    "1. Utils"
   ]
  },
  {
   "cell_type": "code",
   "execution_count": 44,
   "metadata": {},
   "outputs": [],
   "source": [
    "def extract(ancestor, selector, attribute = None, multiple = False):\n",
    "    if selector:\n",
    "        if multiple:\n",
    "            if attribute:\n",
    "                return [tag[attribute] for tag in ancestor.select(selector)]\n",
    "            return [tag.get_text().strip(\"\\n\") for tag in ancestor.select(selector)] \n",
    "        if attribute:\n",
    "            try:\n",
    "                return ancestor.select_one(selector)[attribute]\n",
    "            except TypeError:\n",
    "                return None\n",
    "        try:\n",
    "            return ancestor.select_one(selector).get_text()\n",
    "        except AttributeError:\n",
    "            return None\n",
    "    try:\n",
    "        return ancestor[attribute]\n",
    "    except (KeyError, KeyError):\n",
    "        return None\n",
    "    "
   ]
  },
  {
   "cell_type": "code",
   "execution_count": 45,
   "metadata": {},
   "outputs": [],
   "source": [
    "def translate(text, source = \"pl\", target = \"en\"):\n",
    "    return GoogleTranslator(source, target).translate(text = text)"
   ]
  },
  {
   "cell_type": "code",
   "execution_count": 46,
   "metadata": {},
   "outputs": [],
   "source": [
    "selectors = {\n",
    "    \"opinion_id\": ( None, \"data-entry-id\"),\n",
    "    \"author\" : (\"span.user-post__author-name\",),\n",
    "    \"recommendation\": (\"span.user-post__author-recomendation > em\",),\n",
    "    \"recommendation\" : (None,),\n",
    "    \"stars\" :(\"span.user-post__score-count\",),\n",
    "    \"content_pl\" :( \"div.user-post__text\",),\n",
    "    \"pros_pl\" : (\"div.review-feature__item--positive\", None, True),\n",
    "    \"cons_pl\" : (\"div.review-feature__item--negative\", None, True),\n",
    "    \"vote_yes\" :( \"button.vote-yes\",\"data-total-vote\"),\n",
    "    \"vote_no\" : (\"button.vote-no\",\"data-total-vote\"),\n",
    "    \"published\" :( \"span.user-post__published > time:nth-child(1)\",\"datetime\"),\n",
    "    \"purchased\" : (\"span.user-post__published > time:nth-child(2)\",\"datetime\")\n",
    "}"
   ]
  },
  {
   "cell_type": "markdown",
   "metadata": {},
   "source": [
    "2. Extration of opinions"
   ]
  },
  {
   "cell_type": "code",
   "execution_count": 47,
   "metadata": {},
   "outputs": [],
   "source": [
    "with open(\"./cookie.json\", \"r\") as jf:\n",
    "    headers = json.load(jf)"
   ]
  },
  {
   "cell_type": "markdown",
   "metadata": {},
   "source": [
    "3. If there are more pages, move to the next page and repert 2 - 6 steps"
   ]
  },
  {
   "cell_type": "code",
   "execution_count": 48,
   "metadata": {},
   "outputs": [],
   "source": [
    "\n",
    "\n",
    "\n",
    "product_id = input(\"Enter produc code\")\n",
    "next_page = f\"https://www.ceneo.pl/{product_id}#tab-reviews_scroll\"\n",
    "\n",
    "all_opinions = []\n",
    "\n",
    "while next_page:\n",
    "    response = requests.get(next_page, headers = headers)\n",
    "    if response.status_code == 200:\n",
    "        page_dom = BeautifulSoup(response.text, 'html.parser')\n",
    "        opinions = page_dom.select(\"div.js_product-review:not(.user-post--highlight)\")\n",
    "        for opinion in opinions:\n",
    "            single_opinion = {\n",
    "                key: extract(opinion, *value)\n",
    "                for key, value in selectors.items()\n",
    "            }\n",
    "            single_opinion['content_en'] = translate(single_opinion['content_pl'])\n",
    "            single_opinion['pros_en'] = [translate(pros) for pros in single_opinion['pros_pl']]\n",
    "            single_opinion['cons_en'] = [translate(cons) for cons in single_opinion['cons_pl']]\n",
    "            single_opinion['recommendation'] = True if single_opinion['recommendation'] == \"Polecam\" else False if single_opinion['recommendation'] == \" Nie polecam\" else None\n",
    "            single_opinion['stars'] = float(single_opinion['stars'].split(\"/\")[0].replace(\",\",\".\"))\n",
    "            single_opinion['vote_yes'] = int(single_opinion['vote_yes'])\n",
    "            single_opinion['vote_yes'] = int(single_opinion['vote_no'])\n",
    "            all_opinions.append(single_opinion)\n",
    "            \n",
    "        try:\n",
    "            next_page = \"https://www.ceneo.pl\" + page_dom.select_one(\"a.pagination__next\")[\"href\"]\n",
    "        except TypeError:\n",
    "            next_page = None\n",
    "    else:\n",
    "        print(\"NOT OK\")\n"
   ]
  },
  {
   "cell_type": "code",
   "execution_count": 49,
   "metadata": {},
   "outputs": [],
   "source": [
    "if not os.path.exists(\"./opinions\"):\n",
    "    os.mkdir(\"./opinions\")\n",
    "with open(f\"./opinions/{product_id}.json\",\"w\", encoding = \"UTF-8\") as jf:\n",
    "    json.dump(all_opinions, jf, ensure_ascii = False, indent = 4)"
   ]
  }
 ],
 "metadata": {
  "kernelspec": {
   "display_name": ".venv",
   "language": "python",
   "name": "python3"
  },
  "language_info": {
   "codemirror_mode": {
    "name": "ipython",
    "version": 3
   },
   "file_extension": ".py",
   "mimetype": "text/x-python",
   "name": "python",
   "nbconvert_exporter": "python",
   "pygments_lexer": "ipython3",
   "version": "3.11.4"
  }
 },
 "nbformat": 4,
 "nbformat_minor": 2
}
