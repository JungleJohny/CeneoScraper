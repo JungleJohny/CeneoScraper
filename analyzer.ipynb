{
 "cells": [
  {
   "cell_type": "markdown",
   "metadata": {},
   "source": [
    "IMPORTS"
   ]
  },
  {
   "cell_type": "code",
   "execution_count": 103,
   "metadata": {},
   "outputs": [],
   "source": [
    "import os \n",
    "import pandas as pd\n",
    "import numpy as np\n",
    "from matplotlib import pyplot as plt"
   ]
  },
  {
   "cell_type": "markdown",
   "metadata": {},
   "source": [
    "### Loading opinions from .json files\n"
   ]
  },
  {
   "cell_type": "code",
   "execution_count": 104,
   "metadata": {},
   "outputs": [
    {
     "name": "stdout",
     "output_type": "stream",
     "text": [
      "140915932\n",
      "28217807\n",
      "84514582\n"
     ]
    }
   ],
   "source": [
    "print(*[filename.split(\".\")[0] for filename in os.listdir(\"./opinions\")], sep = \"\\n\")"
   ]
  },
  {
   "cell_type": "code",
   "execution_count": 105,
   "metadata": {},
   "outputs": [],
   "source": [
    "product_id = input(\"enter priduct d\")"
   ]
  },
  {
   "cell_type": "code",
   "execution_count": 106,
   "metadata": {},
   "outputs": [],
   "source": [
    "opinions = pd.read_json(f\"./opinions/{product_id}.json\")\n"
   ]
  },
  {
   "cell_type": "markdown",
   "metadata": {},
   "source": [
    "### Basic statistics"
   ]
  },
  {
   "cell_type": "code",
   "execution_count": 107,
   "metadata": {},
   "outputs": [
    {
     "name": "stdout",
     "output_type": "stream",
     "text": [
      "the average rate of the product: 4.63\n",
      "the number of opinions of the product: 27\n",
      "the number of positive opinions of the product: 13\n",
      "the number of nagative opinions of the product: 1\n",
      "the average count of cons and pros of the product: 1\n"
     ]
    }
   ],
   "source": [
    "opinions_count = opinions.shape[0]\n",
    "pros_count = opinions.pros_pl.astype(bool).sum()\n",
    "cons_count = opinions.cons_pl.astype(bool).sum()\n",
    "pros_cons_count = opinions.apply(lambda o: bool(o.pros_pl) and bool(o.cons_pl), axis=1).sum()\n",
    "average_rate = opinions.stars.mean()\n",
    "\n",
    "\n",
    "print(f\"the average rate of the product: {average_rate:.2f}\")\n",
    "print(f\"the number of opinions of the product: {opinions_count}\")\n",
    "print(f\"the number of positive opinions of the product: {pros_count}\")\n",
    "print(f\"the number of nagative opinions of the product: {cons_count}\")\n",
    "print(f\"the average count of cons and pros of the product: {cons_count}\")\n",
    "\n",
    "\n",
    "pros = opinions.pros_en.explode().value_counts()\n",
    "cons = opinions.cons_en.explode().value_counts()\n"
   ]
  },
  {
   "cell_type": "markdown",
   "metadata": {},
   "source": [
    "### Charts"
   ]
  },
  {
   "cell_type": "code",
   "execution_count": 108,
   "metadata": {},
   "outputs": [
    {
     "data": {
      "text/plain": [
       "recommendation\n",
       "False     0.0\n",
       "True      0.0\n",
       "NaN      27.0\n",
       "Name: count, dtype: float64"
      ]
     },
     "execution_count": 108,
     "metadata": {},
     "output_type": "execute_result"
    }
   ],
   "source": [
    "recommendations = opinions.recommendation.value_counts(dropna = False).reindex([False, True, np.nan], fill_value = 0.0)\n",
    "recommendations"
   ]
  },
  {
   "cell_type": "code",
   "execution_count": 114,
   "metadata": {},
   "outputs": [
    {
     "data": {
      "image/png": "[encoded data removed]",
      "text/plain": [
       "<Figure size 640x480 with 1 Axes>"
      ]
     },
     "metadata": {},
     "output_type": "display_data"
    }
   ],
   "source": [
    "recommendations.plot.pie(\n",
    "    label = \"\",\n",
    "    labels = [\"Not recommend\", \"recommend\", \" no opinion\"],\n",
    "    colors = [\"red\", \"green\", \"silver\"],\n",
    "    autopct = lambda v: f\"{v:.1f}%\" if v > 0 else \"\",\n",
    "    title = f\"share of recommendation of product {product_id}\"\n",
    ")\n",
    "plt.show()"
   ]
  }
 ],
 "metadata": {
  "kernelspec": {
   "display_name": ".venv",
   "language": "python",
   "name": "python3"
  },
  "language_info": {
   "codemirror_mode": {
    "name": "ipython",
    "version": 3
   },
   "file_extension": ".py",
   "mimetype": "text/x-python",
   "name": "python",
   "nbconvert_exporter": "python",
   "pygments_lexer": "ipython3",
   "version": "3.11.4"
  }
 },
 "nbformat": 4,
 "nbformat_minor": 2
}
